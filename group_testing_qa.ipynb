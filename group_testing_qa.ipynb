{
 "cells": [
  {
   "cell_type": "code",
   "execution_count": 1,
   "metadata": {},
   "outputs": [],
   "source": [
    "import requests\n",
    "import os\n",
    "from dotenv import load_dotenv"
   ]
  },
  {
   "cell_type": "code",
   "execution_count": 3,
   "metadata": {},
   "outputs": [],
   "source": [
    "load_dotenv()\n",
    "\n",
    "api_key = os.environ.get('API_KEY')\n",
    "api_url = os.environ.get('API_URL')"
   ]
  },
  {
   "cell_type": "code",
   "execution_count": 29,
   "metadata": {},
   "outputs": [],
   "source": [
    "headers = {\"Content-Type\": \"application/json\", \"Authorization\": api_key}\n",
    "\n",
    "def create_document_group(group_size):\n",
    "    request_body = {\n",
    "        \"doc_group_size\": group_size\n",
    "    }\n",
    "    response = requests.post(api_url + \"/document_group\", json=request_body, headers=headers)\n",
    "    return response.status_code\n",
    "\n",
    "def index_document_group(story_id, group_size):\n",
    "    request_body = {\n",
    "        \"story_id\": story_id,\n",
    "        \"doc_group_size\": group_size\n",
    "    }\n",
    "    response = requests.put(api_url + \"/document_group\", json=request_body, headers=headers)\n",
    "    return response.status_code\n",
    "\n",
    "def send_search_request(query_str):\n",
    "    request_body = {\n",
    "        \"query\": query_str,\n",
    "        \"page\": 1\n",
    "    }\n",
    "\n",
    "    response = requests.post(api_url + \"/search\", json=request_body, headers=headers)\n",
    "    return response.json()\n",
    "\n",
    "def send_search_request_document_group(query_str, group_size):\n",
    "    request_body = {\n",
    "        \"doc_group_size\": group_size,\n",
    "        \"query\": query_str,\n",
    "        \"page\": 1\n",
    "    }\n",
    "\n",
    "    response = requests.post(api_url + \"/search\", json=request_body, headers=headers)\n",
    "    return response.json()\n",
    "\n",
    "def send_recommend_request(story_ids, group_size):\n",
    "    request_body = {\n",
    "        \"story_ids\": story_ids,\n",
    "        \"doc_group_size\": group_size\n",
    "    }\n",
    "    \n",
    "    response = requests.post(api_url + \"/recommend\", json=request_body, headers=headers)\n",
    "    return response.json()\n",
    "\n",
    "def similarity_to_single(query_str, story_id, index):\n",
    "    request_body = {\n",
    "        \"query\": query_str,\n",
    "        \"story_id\": story_id,\n",
    "        \"index\": index\n",
    "    }\n",
    "\n",
    "    response = requests.post(api_url + \"/similarity\", json=request_body, headers=headers)\n",
    "    return response.json()\n",
    "\n",
    "def similarity_to_group(query_str, story_id, index, group_size):\n",
    "    request_body = {\n",
    "        \"query\": query_str,\n",
    "        \"story_id\": story_id,\n",
    "        \"index\": index,\n",
    "        \"doc_group_size\": group_size\n",
    "    }\n",
    "\n",
    "    response = requests.post(api_url + \"/similarity\", json=request_body, headers=headers)\n",
    "    return response.json()\n"
   ]
  },
  {
   "cell_type": "code",
   "execution_count": 7,
   "metadata": {},
   "outputs": [
    {
     "name": "stdout",
     "output_type": "stream",
     "text": [
      "https://www.royalroad.com/fiction/38144 12\n",
      "https://www.royalroad.com/fiction/18014 2\n",
      "https://www.royalroad.com/fiction/28137 2\n",
      "https://www.royalroad.com/fiction/49508 1\n",
      "https://www.royalroad.com/fiction/5950 6\n",
      "https://www.royalroad.com/fiction/57747 1\n",
      "https://www.royalroad.com/fiction/28137 1\n",
      "https://www.royalroad.com/fiction/71392 287\n",
      "https://www.royalroad.com/fiction/5950 5\n",
      "https://www.royalroad.com/fiction/38439 2\n"
     ]
    }
   ],
   "source": [
    "# test search single chapters\n",
    "results = send_search_request('Software engineer programmer starts to realize the magic system is akin to programming')\n",
    "for result in results:\n",
    "    index = result['DocEmbedding'][\"index\"]\n",
    "    story_id = result['DocEmbedding'][\"story_id\"]\n",
    "    link = f'https://www.royalroad.com/fiction/{story_id}'\n",
    "    print(link, index)"
   ]
  },
  {
   "cell_type": "code",
   "execution_count": 27,
   "metadata": {},
   "outputs": [
    {
     "name": "stdout",
     "output_type": "stream",
     "text": [
      "https://www.royalroad.com/fiction/38151 0\n",
      "https://www.royalroad.com/fiction/49417 0\n",
      "https://www.royalroad.com/fiction/49417 1\n",
      "https://www.royalroad.com/fiction/49417 2\n",
      "https://www.royalroad.com/fiction/24054 0\n",
      "https://www.royalroad.com/fiction/30439 0\n",
      "https://www.royalroad.com/fiction/9813 0\n",
      "https://www.royalroad.com/fiction/65226 1\n",
      "https://www.royalroad.com/fiction/65226 0\n",
      "https://www.royalroad.com/fiction/65226 2\n"
     ]
    }
   ],
   "source": [
    "# test search groups\n",
    "results = send_search_request_document_group('With infinite variations of runic magic to discover and with death as a painful soul wound rather than a final end, Noah finally has a chance to wander the lands of the living once again.', 50)\n",
    "for result in results:\n",
    "    index = result['DocGroupEmbedding'][\"index\"]\n",
    "    story_id = result['DocGroupEmbedding'][\"story_id\"]\n",
    "    link = f'https://www.royalroad.com/fiction/{story_id}'\n",
    "    print(link, index)"
   ]
  },
  {
   "cell_type": "code",
   "execution_count": 24,
   "metadata": {},
   "outputs": [
    {
     "name": "stdout",
     "output_type": "stream",
     "text": [
      "https://www.royalroad.com/fiction/14051 0\n",
      "https://www.royalroad.com/fiction/41522 0\n",
      "https://www.royalroad.com/fiction/14051 0\n",
      "https://www.royalroad.com/fiction/41522 0\n",
      "https://www.royalroad.com/fiction/46789 0\n",
      "https://www.royalroad.com/fiction/25254 0\n",
      "https://www.royalroad.com/fiction/24834 0\n",
      "https://www.royalroad.com/fiction/14396 0\n",
      "https://www.royalroad.com/fiction/37346 0\n",
      "https://www.royalroad.com/fiction/37346 0\n",
      "https://www.royalroad.com/fiction/41522 0\n",
      "https://www.royalroad.com/fiction/22186 0\n",
      "https://www.royalroad.com/fiction/25254 0\n",
      "https://www.royalroad.com/fiction/6523 0\n",
      "https://www.royalroad.com/fiction/16577 0\n",
      "https://www.royalroad.com/fiction/6523 0\n",
      "https://www.royalroad.com/fiction/22186 0\n",
      "https://www.royalroad.com/fiction/16577 0\n",
      "https://www.royalroad.com/fiction/6523 0\n",
      "https://www.royalroad.com/fiction/26678 0\n"
     ]
    }
   ],
   "source": [
    "# test recommendations\n",
    "results = send_recommend_request([75345,58643,51358,68959,54476], 50)\n",
    "\n",
    "for result in results['recommended_story_ids']:\n",
    "    link = f'https://www.royalroad.com/fiction/{result}'\n",
    "    print(link, index)"
   ]
  },
  {
   "cell_type": "code",
   "execution_count": 26,
   "metadata": {},
   "outputs": [
    {
     "name": "stdout",
     "output_type": "stream",
     "text": [
      "{'similarity': 0.9012295603752136}\n"
     ]
    }
   ],
   "source": [
    "# similarity to single test\n",
    "results = similarity_to_single('With infinite variations of runic magic to discover and with death as a painful soul wound rather than a final end, Noah finally has a chance to wander the lands of the living once again.', 68679, 1)\n",
    "\n",
    "print(results)"
   ]
  },
  {
   "cell_type": "code",
   "execution_count": 30,
   "metadata": {},
   "outputs": [
    {
     "name": "stdout",
     "output_type": "stream",
     "text": [
      "{'similarity': 0.8968564867973328}\n"
     ]
    }
   ],
   "source": [
    "# similarity to group test\n",
    "results = similarity_to_group('With infinite variations of runic magic to discover and with death as a painful soul wound rather than a final end, Noah finally has a chance to wander the lands of the living once again.', 68679, 0, 50)\n",
    "\n",
    "print(results)"
   ]
  }
 ],
 "metadata": {
  "kernelspec": {
   "display_name": "Python 3",
   "language": "python",
   "name": "python3"
  },
  "language_info": {
   "codemirror_mode": {
    "name": "ipython",
    "version": 3
   },
   "file_extension": ".py",
   "mimetype": "text/x-python",
   "name": "python",
   "nbconvert_exporter": "python",
   "pygments_lexer": "ipython3",
   "version": "3.10.12"
  }
 },
 "nbformat": 4,
 "nbformat_minor": 2
}
